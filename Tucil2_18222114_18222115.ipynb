{
 "cells": [
  {
   "cell_type": "markdown",
   "metadata": {
    "id": "uSIWCqrYmFED"
   },
   "source": [
    "# IF3070 Foundations of Artificial Intelligence | Tugas Kecil 2"
   ]
  },
  {
   "cell_type": "markdown",
   "metadata": {
    "id": "h7GBlbj5mFEE"
   },
   "source": [
    "Group Number: 64\n",
    "\n",
    "Group Members:\n",
    "- Nathaniel Liady (18222114)\n",
    "- Gabriel Marcellino (18222115)"
   ]
  },
  {
   "cell_type": "markdown",
   "metadata": {
    "id": "0h-OTlV0mFEE"
   },
   "source": [
    "## Import Libraries"
   ]
  },
  {
   "cell_type": "code",
   "execution_count": null,
   "metadata": {
    "id": "6HiGhI10mFEE"
   },
   "outputs": [],
   "source": [
    "import pandas as pd\n",
    "import numpy as np\n",
    "\n",
    "# Import other libraries if needed\n",
    "import seaborn as sns\n",
    "import matplotlib.pyplot as plt\n",
    "\n",
    "\n",
    "# Additional settings\n",
    "pd.set_option('display.max_columns',None)"
   ]
  },
  {
   "cell_type": "markdown",
   "metadata": {
    "id": "ugTwxRyfmFEF"
   },
   "source": [
    "## Import Dataset"
   ]
  },
  {
   "cell_type": "code",
   "execution_count": null,
   "metadata": {
    "id": "snidRLctv2KH"
   },
   "outputs": [],
   "source": [
    "# Example of reading a csv file from a gdrive link\n",
    "\n",
    "# Take the file id from the gdrive file url\n",
    "# https://drive.google.com/file/d/1ZUtiaty9RPXhpz5F2Sy3dFPHF4YIt5iU/view?usp=sharing => The file id is 1ZUtiaty9RPXhpz5F2Sy3dFPHF4YIt5iU\n",
    "# and then put it in this format:\n",
    "# https://drive.google.com/uc?id={file_id}\n",
    "# Don't forget to change the access to public\n",
    "\n",
    "# # Example\n",
    "# df = pd.read_csv('https://drive.google.com/uc?id=1ZUtiaty9RPXhpz5F2Sy3dFPHF4YIt5iU')\n",
    "# df.head()\n",
    "\n",
    "df = pd.read_csv('https://drive.google.com/uc?id=15pnRBoG8nJRxJx3Bp8tOneZEB1XmHCYe')\n",
    "# df = pd.read_csv('train.csv')\n"
   ]
  },
  {
   "cell_type": "code",
   "execution_count": null,
   "metadata": {
    "colab": {
     "base_uri": "https://localhost:8080/",
     "height": 383
    },
    "id": "HVjmRiUINeWs",
    "outputId": "81c4180c-1b7e-4497-af2d-a2a7dec54bdd"
   },
   "outputs": [],
   "source": [
    "df.head(10)"
   ]
  },
  {
   "cell_type": "code",
   "execution_count": null,
   "metadata": {
    "id": "Tc377N1sNeWu"
   },
   "outputs": [],
   "source": [
    "df_copy = df.copy()"
   ]
  },
  {
   "cell_type": "markdown",
   "metadata": {
    "id": "Ugy6CvPiNeWu"
   },
   "source": [
    "# Additional Step"
   ]
  },
  {
   "cell_type": "markdown",
   "metadata": {
    "id": "dgiCztPKNeWv"
   },
   "source": [
    "## 1. Change Format Type\n",
    "\n",
    "There are some incorrect data type (boolean but it says float). So in here, we'll change to desired data type"
   ]
  },
  {
   "cell_type": "code",
   "execution_count": null,
   "metadata": {
    "colab": {
     "base_uri": "https://localhost:8080/"
    },
    "id": "qE3cEHUTNeWv",
    "outputId": "927278e9-e018-4e86-fc89-f193a15aab78"
   },
   "outputs": [],
   "source": [
    "# See all columns\n",
    "df_copy.columns"
   ]
  },
  {
   "cell_type": "code",
   "execution_count": null,
   "metadata": {
    "colab": {
     "base_uri": "https://localhost:8080/",
     "height": 444
    },
    "id": "fFs7_rIBNeWv",
    "outputId": "09606bbd-9616-46e4-b217-c27c5f8395a9"
   },
   "outputs": [],
   "source": [
    "bool_columns = [\n",
    "    'IsDomainIP','HasObfuscation','IsHTTPS','HasTitle','HasFavicon','IsResponsive','HasDescription','Robots','HasHiddenFields','HasPasswordField',\n",
    "    'HasExternalFormSubmit','HasSocialNet','HasSubmitButton','HasCopyrightInfo','Crypto','Pay','Bank'\n",
    "    ]\n",
    "\n",
    "df_copy[bool_columns]"
   ]
  },
  {
   "cell_type": "code",
   "execution_count": null,
   "metadata": {
    "colab": {
     "base_uri": "https://localhost:8080/",
     "height": 617
    },
    "id": "CD9VZAAvNeWv",
    "outputId": "10c995c4-9a08-4022-a6c6-7e91bf90bb67"
   },
   "outputs": [],
   "source": [
    "# Before change\n",
    "df_copy[bool_columns].dtypes"
   ]
  },
  {
   "cell_type": "code",
   "execution_count": null,
   "metadata": {
    "id": "4s0-_1EkNeWw"
   },
   "outputs": [],
   "source": [
    "# Change the value to boolean but keep the missing values\n",
    "def change_bool(value):\n",
    "    if pd.isna(value):\n",
    "        return value\n",
    "    else:\n",
    "        return bool(value)\n",
    "\n",
    "for column in bool_columns:\n",
    "    df_copy[column] = df_copy[column].apply(change_bool).astype('bool')"
   ]
  },
  {
   "cell_type": "code",
   "execution_count": null,
   "metadata": {
    "colab": {
     "base_uri": "https://localhost:8080/",
     "height": 1000
    },
    "id": "GxSwbwcLNeWw",
    "outputId": "9273a1bf-9fa6-41a5-d786-b7c7417245bc"
   },
   "outputs": [],
   "source": [
    "# After Change\n",
    "df_copy.dtypes"
   ]
  },
  {
   "cell_type": "code",
   "execution_count": null,
   "metadata": {
    "id": "9_68m8X4NeWw"
   },
   "outputs": [],
   "source": [
    "df = df_copy.copy()"
   ]
  },
  {
   "cell_type": "markdown",
   "metadata": {
    "id": "M7K9dRzOmFEG"
   },
   "source": [
    "# 1. Exploratory Data Analysis\n",
    "\n",
    "Exploratory Data Analysis (EDA) is a crucial step in the data analysis process that involves examining and visualizing data sets to uncover patterns, trends, anomalies, and insights. It is the first step before applying more advanced statistical and machine learning techniques. EDA helps you to gain a deep understanding of the data you are working with, allowing you to make informed decisions and formulate hypotheses for further analysis."
   ]
  },
  {
   "cell_type": "markdown",
   "metadata": {
    "id": "w6tzpaCimFEG"
   },
   "source": [
    "## A. Data Understanding\n",
    "The objective of this section is for participants to understand the quality of the provided data. This includes:\n",
    "\n",
    "1. Data Size\n",
    "2. Statistics of Each Feature\n",
    "3. Outliers\n",
    "4. Correlation\n",
    "5. Distribution"
   ]
  },
  {
   "cell_type": "markdown",
   "metadata": {
    "id": "96TcnbB9mFEG"
   },
   "source": [
    "### Step 1\n",
    "\n",
    "Find the following:\n",
    "\n",
    "1. The size of the data (instances and features).\n",
    "2. The data types of each feature.\n",
    "3. The number of unique values for categorical features.\n",
    "4. The minimum, maximum, mean, median, and standard deviation values for non-categorical features.\n",
    "5. Explain the significance of gathering the first four pieces of information."
   ]
  },
  {
   "cell_type": "markdown",
   "metadata": {
    "id": "UWuHeHKWNeWx"
   },
   "source": [
    "#### 1. Data Size"
   ]
  },
  {
   "cell_type": "code",
   "execution_count": null,
   "metadata": {
    "colab": {
     "base_uri": "https://localhost:8080/"
    },
    "id": "TaELJ0atmFEG",
    "outputId": "1dd6544d-a46c-46f3-8869-b43c35172ebe"
   },
   "outputs": [],
   "source": [
    "# data size\n",
    "print(f\"data row: {df.shape[0]} rows\")\n",
    "print(f\"data column: {df.shape[1]} columns\")"
   ]
  },
  {
   "cell_type": "code",
   "execution_count": null,
   "metadata": {
    "colab": {
     "base_uri": "https://localhost:8080/"
    },
    "id": "KRtbl_UCNeWx",
    "outputId": "87605249-05f2-4f92-cc75-8c15f9169173"
   },
   "outputs": [],
   "source": [
    "# columns\n",
    "df.columns"
   ]
  },
  {
   "cell_type": "markdown",
   "metadata": {
    "id": "kuyBO50cNeWx"
   },
   "source": [
    "#### 2. Data Types"
   ]
  },
  {
   "cell_type": "code",
   "execution_count": null,
   "metadata": {
    "colab": {
     "base_uri": "https://localhost:8080/",
     "height": 1000
    },
    "id": "DyivBrX2NeWx",
    "outputId": "36b32c9d-15bb-4811-a335-7e2f18e0549e"
   },
   "outputs": [],
   "source": [
    "# data types of each feature\n",
    "df.dtypes"
   ]
  },
  {
   "cell_type": "markdown",
   "metadata": {
    "id": "dTTMJ4-rNeWy"
   },
   "source": [
    "#### 3. Unique Values"
   ]
  },
  {
   "cell_type": "code",
   "execution_count": null,
   "metadata": {
    "colab": {
     "base_uri": "https://localhost:8080/",
     "height": 1000
    },
    "id": "JN92J-DLNeWy",
    "outputId": "4945cfc5-f244-4c44-ebdf-44b691a6b4fe"
   },
   "outputs": [],
   "source": [
    "# the number of unique values\n",
    "\n",
    "df_copy.nunique().sort_values(ascending=True)"
   ]
  },
  {
   "cell_type": "markdown",
   "metadata": {
    "id": "eB7w0iYnNeWy"
   },
   "source": [
    "#### 4. Statistical Informations"
   ]
  },
  {
   "cell_type": "code",
   "execution_count": null,
   "metadata": {
    "id": "EYVfMzeGNeWy"
   },
   "outputs": [],
   "source": [
    "# Statistical Informations\n",
    "\n",
    "# Take Numerical Categories\n",
    "num_categories = df.select_dtypes(include='number')"
   ]
  },
  {
   "cell_type": "code",
   "execution_count": null,
   "metadata": {
    "colab": {
     "base_uri": "https://localhost:8080/"
    },
    "id": "fPg-DMyZNeWy",
    "outputId": "a4571265-4f8c-4d31-ca1c-61ad78784f02"
   },
   "outputs": [],
   "source": [
    "# Numerical Columns\n",
    "num_categories.columns"
   ]
  },
  {
   "cell_type": "code",
   "execution_count": null,
   "metadata": {
    "colab": {
     "base_uri": "https://localhost:8080/",
     "height": 320
    },
    "id": "Sr6BkJ6YNeWz",
    "outputId": "f22fcef8-0ece-4b8f-994f-b05ba1324883"
   },
   "outputs": [],
   "source": [
    "num_categories.describe()"
   ]
  },
  {
   "cell_type": "markdown",
   "metadata": {
    "id": "6ZjIZWTYNeWz"
   },
   "source": [
    "#### 5. Purposes for doing the 4 steps"
   ]
  },
  {
   "cell_type": "markdown",
   "metadata": {
    "id": "HjYrOOonNeWz"
   },
   "source": [
    "- Data Size and Data Types: <br>\n",
    "    When we know the data size, it can helps us to understand amount of space of the data we are working on. It helps us to distinct proportional when splitting the data. For the data types in each features, it helps us understand which value that can be use in certain analysis (e.g. statistical informations from numerical data type)\n",
    " <br>\n",
    "\n",
    "- Unique Values: <br>\n",
    "  To understand how much (unique) values in each features. We can identify continuous or categorical data based on amount of unique values each features\n",
    "<br>\n",
    "\n",
    "- Statistical Informations: <br>\n",
    "  It can help on finding statistical semantic each features based on mean, standard deviation (how far the values from the mean), quartile (amount of values under each quartile), min max values. With this informations, we could detect outliers or anomalies on the data ( one example: max in URLLength beyond the 75% quartile,which is 30).\n",
    "\n",
    "<br>"
   ]
  },
  {
   "cell_type": "markdown",
   "metadata": {
    "id": "sNRFMQoumFEG"
   },
   "source": [
    "### Step 2\n",
    "\n",
    "Find the following:\n",
    "\n",
    "1. Missing values for each feature.\n",
    "2. Outliers for each feature (use the methods you are familiar with).\n",
    "3. Why is it necessary to identify missing values and outliers?"
   ]
  },
  {
   "cell_type": "markdown",
   "metadata": {
    "id": "caSC8wnpmFEH"
   },
   "source": [
    "#### 1. Missing Values\n",
    "\n",
    "percentage missing values from all of the data"
   ]
  },
  {
   "cell_type": "code",
   "execution_count": null,
   "metadata": {
    "colab": {
     "base_uri": "https://localhost:8080/"
    },
    "id": "h_ZoXn95NeW0",
    "outputId": "2833596f-d471-49c3-9455-1d7920706dc5"
   },
   "outputs": [],
   "source": [
    "missing_percentage = ((df.isna().sum() * 100 / len(df)).round(4))\n",
    "df_missing_percentage = missing_percentage.to_frame(name='Missing Values (%)').sort_values(by='Missing Values (%)',ascending=True)\n",
    "\n",
    "print(df_missing_percentage)"
   ]
  },
  {
   "cell_type": "markdown",
   "metadata": {
    "id": "mJOExjELNeW0"
   },
   "source": [
    "#### 2. Outliers"
   ]
  },
  {
   "cell_type": "code",
   "execution_count": null,
   "metadata": {
    "colab": {
     "base_uri": "https://localhost:8080/",
     "height": 673
    },
    "id": "ReZvMlzwNeW0",
    "outputId": "243a951e-976a-4ca6-d218-ac2b3609d676"
   },
   "outputs": [],
   "source": [
    "# Outliers plot without id and label\n",
    "num_categories_exc = num_categories.select_dtypes(exclude='int64')\n",
    "fig,axs = plt.subplots(ncols=8,nrows=4,figsize=(32,16))\n",
    "axs = axs.flatten()\n",
    "\n",
    "for i, col in enumerate(num_categories_exc.columns):\n",
    "    sns.boxplot(data=df[col], ax=axs[i])\n",
    "    axs[i].set_title(col)\n",
    "    axs[i].set_xlabel('')\n",
    "    axs[i].set_ylabel('')\n",
    "plt.tight_layout()\n",
    "plt.show()"
   ]
  },
  {
   "cell_type": "markdown",
   "metadata": {
    "id": "-z6CWNF4NeW0"
   },
   "source": [
    "#### 3. Explanation why need to find missing values and outliers"
   ]
  },
  {
   "cell_type": "markdown",
   "metadata": {
    "id": "nbsHtj-0_nP9"
   },
   "source": [
    "- Missing Values: <br>\n",
    "  Missing values could leading to bad model predict. With information the amount of the missing values, it helps us to distinct whether we are going to keep the features by give the missing values a new value (feature imputer) or will remove it from the dataset\n",
    "<br>\n",
    "\n",
    "- Outliers: <br>\n",
    "  This is a anomalie value. By semantically correct, it doesn't fit to the value space which can disrupt how the model read the data. Same with the missing values, we can do a modification in the next step"
   ]
  },
  {
   "cell_type": "markdown",
   "metadata": {
    "id": "nl_Xcxn-mFEH"
   },
   "source": [
    "### Step 3\n",
    "\n",
    "Find the following:\n",
    "\n",
    "1. Correlations between features.\n",
    "2. Visualize the distribution of each feature (categorical and continuous).\n",
    "3. Visualize the correlation between features and the target variable.\n",
    "4. Explain the significance of understanding feature distributions and correlations."
   ]
  },
  {
   "cell_type": "markdown",
   "metadata": {
    "id": "y7uzcuWgmFEH"
   },
   "source": [
    "#### 1. Correlations"
   ]
  },
  {
   "cell_type": "code",
   "execution_count": null,
   "metadata": {
    "colab": {
     "base_uri": "https://localhost:8080/",
     "height": 1000
    },
    "id": "fJFgU4ZlNeW6",
    "outputId": "3c67f11f-b760-4ab2-9056-8153721f202d"
   },
   "outputs": [],
   "source": [
    "corr = num_categories.corr(method='pearson')\n",
    "fig\n",
    "plt.figure(figsize=(20,16))\n",
    "sns.heatmap(corr,annot=True,fmt=\".2f\",linewidths=.5,cmap='YlOrBr')\n",
    "plt.title('Correlation Matrix',weight='bold')\n",
    "plt.show()"
   ]
  },
  {
   "cell_type": "markdown",
   "metadata": {
    "id": "4KlgQxusNeW6"
   },
   "source": [
    "#### 2. Distribution\n",
    "note: we are not plot all of the data and only take half from all of the data. <br>\n",
    "this action is to reduce computational works"
   ]
  },
  {
   "cell_type": "code",
   "execution_count": null,
   "metadata": {
    "colab": {
     "base_uri": "https://localhost:8080/"
    },
    "id": "Tclzxg_ONeW6",
    "outputId": "86eb38bc-9a72-4165-ee42-8273af1983af"
   },
   "outputs": [],
   "source": [
    "# Plot only sample\n",
    "# to reduce computational works\n",
    "df_plot = df.sample(n=int(len(df)/2),random_state=42)"
   ]
  },
  {
   "cell_type": "code",
   "execution_count": null,
   "metadata": {
    "id": "txl7Z671NeW6"
   },
   "outputs": [],
   "source": [
    "# Function to plot distribution\n",
    "\n",
    "def plot_distribution(data,label='label',type='categorical'):\n",
    "    '''\n",
    "    Plot all numerical features: either categorical or continuous by label\n",
    "\n",
    "    data    : dataframe\n",
    "    label   : label column\n",
    "    '''\n",
    "    if type =='categorical':\n",
    "        features = data.select_dtypes(include=['object','bool']).columns\n",
    "    elif type == 'continuous':\n",
    "        features = data.select_dtypes(include=['number']).columns\n",
    "\n",
    "\n",
    "    n_cols = 4\n",
    "    n_rows = int(np.ceil(len(features)/n_cols))\n",
    "\n",
    "    fig,axs = plt.subplots(n_rows,n_cols,figsize=(20,5 * n_rows))\n",
    "    axs = axs.flatten()\n",
    "\n",
    "    for i,col in enumerate(features):\n",
    "        sns.histplot(data=data,x=col,hue = label,ax=axs[i])\n",
    "        axs[i].set_title(f\"Distribution of {col}\")\n",
    "        axs[i].set_ylabel(\"Frequency\")\n",
    "\n",
    "    plt.tight_layout()\n",
    "    plt.show()\n",
    "\n"
   ]
  },
  {
   "cell_type": "markdown",
   "metadata": {
    "id": "w34rRmfRNeW7"
   },
   "source": [
    "##### 2.1. Distribution (Categorical)"
   ]
  },
  {
   "cell_type": "code",
   "execution_count": null,
   "metadata": {
    "id": "hjyzXTedNeW7"
   },
   "outputs": [],
   "source": [
    "categorical_features = [\n",
    "    'IsDomainIP', 'HasObfuscation', 'IsHTTPS', 'HasTitle', 'HasFavicon',\n",
    "    'HasDescription', 'HasPasswordField', 'HasExternalFormSubmit',\n",
    "    'Bank', 'Pay', 'Crypto', 'HasSocialNet', 'Robots',\n",
    "    'IsResponsive', 'label'\n",
    "]"
   ]
  },
  {
   "cell_type": "code",
   "execution_count": null,
   "metadata": {
    "colab": {
     "base_uri": "https://localhost:8080/",
     "height": 1000
    },
    "id": "UAl3f09INeW7",
    "outputId": "86eeec53-04d8-45f5-9b56-34441ed74f3c"
   },
   "outputs": [],
   "source": [
    "plot_distribution(df_plot[categorical_features],type='categorical')"
   ]
  },
  {
   "cell_type": "markdown",
   "metadata": {
    "id": "2Rq3x_9wNeW7"
   },
   "source": [
    "##### 2.2. Distribution (Continuous)"
   ]
  },
  {
   "cell_type": "code",
   "execution_count": null,
   "metadata": {
    "id": "HG4K-UHCNeW7"
   },
   "outputs": [],
   "source": [
    "continuous_features = [\n",
    "    'URLLength', 'DomainLength', 'CharContinuationRate', 'TLDLegitimateProb',\n",
    "    'URLCharProb', 'TLDLength', 'NoOfSubDomain', 'NoOfObfuscatedChar',\n",
    "    'ObfuscationRatio', 'NoOfLettersInURL', 'LetterRatioInURL', 'NoOfDegitsInURL',\n",
    "    'DegitRatioInURL', 'NoOfEqualsInURL', 'NoOfQMarkInURL', 'NoOfAmpersandInURL',\n",
    "    'NoOfOtherSpecialCharsInURL', 'SpacialCharRatioInURL', 'LineOfCode',\n",
    "    'LargestLineLength', 'DomainTitleMatchScore', 'URLTitleMatchScore', 'NoOfPopup',\n",
    "    'NoOfiFrame', 'NoOfImage', 'NoOfCSS', 'NoOfJS', 'NoOfSelfRef', 'NoOfEmptyRef',\n",
    "    'NoOfExternalRef','label'\n",
    "]"
   ]
  },
  {
   "cell_type": "code",
   "execution_count": null,
   "metadata": {
    "colab": {
     "base_uri": "https://localhost:8080/",
     "height": 1000
    },
    "id": "Cq9ehyzZNeW7",
    "outputId": "96181eee-a38c-45f3-a730-ff8507e93763"
   },
   "outputs": [],
   "source": [
    "plot_distribution(df_plot[continuous_features],type='continuous')"
   ]
  },
  {
   "cell_type": "markdown",
   "metadata": {
    "id": "b_5g0CNPNeW8"
   },
   "source": [
    "#### 3. Visualization features and target"
   ]
  },
  {
   "cell_type": "code",
   "execution_count": null,
   "metadata": {
    "id": "iYT5s8cbNeW8"
   },
   "outputs": [],
   "source": [
    "def plot_by_label(features,y='label'):\n",
    "  '''\n",
    "  Function to plot each features by target (label)\n",
    "\n",
    "  features: features column\n",
    "  y: label\n",
    "  '''\n",
    "\n",
    "  nrows = 3\n",
    "  ncols = int(np.ceil(len(features) + 1)/ 2)\n",
    "\n",
    "  fig,axs = plt.subplots(ncols=ncols,nrows=nrows,figsize=(10,5*nrows))\n",
    "\n",
    "  axs = axs.flatten()\n",
    "  pallete = sns.color_palette(palette=\"tab20b\")\n",
    "  for i,col in enumerate(features):\n",
    "    sns.scatterplot(data = features,x=col,y=y,colormaps=pallete)\n",
    "\n",
    "    plt.title(f\"Features {col} by label\")\n",
    "    plt.tight_layout()\n",
    "    plt.show()\n"
   ]
  },
  {
   "cell_type": "code",
   "execution_count": null,
   "metadata": {
    "colab": {
     "base_uri": "https://localhost:8080/"
    },
    "id": "DaE8pB_LIQOm",
    "outputId": "f1507df1-5b97-423a-89d7-4f31ade008a9"
   },
   "outputs": [],
   "source": [
    "df.columns"
   ]
  },
  {
   "cell_type": "code",
   "execution_count": null,
   "metadata": {
    "id": "s4Yn4wLBH_S5"
   },
   "outputs": [],
   "source": [
    "# Features to plot\n",
    "\n",
    "features_to_plot = [\n",
    "        'URLLength',  'DomainLength',\n",
    "       'IsDomainIP', 'TLD', 'CharContinuationRate', 'TLDLegitimateProb',\n",
    "       'URLCharProb', 'TLDLength', 'NoOfSubDomain', 'HasObfuscation',\n",
    "       'NoOfObfuscatedChar', 'ObfuscationRatio', 'NoOfLettersInURL',\n",
    "       'LetterRatioInURL', 'NoOfDegitsInURL', 'DegitRatioInURL',\n",
    "       'NoOfEqualsInURL', 'NoOfQMarkInURL', 'NoOfAmpersandInURL',\n",
    "       'NoOfOtherSpecialCharsInURL', 'SpacialCharRatioInURL', 'IsHTTPS',\n",
    "       'LineOfCode', 'LargestLineLength', 'HasTitle', 'Title',\n",
    "       'DomainTitleMatchScore', 'URLTitleMatchScore', 'HasFavicon', 'Robots',\n",
    "       'IsResponsive', 'NoOfURLRedirect', 'NoOfSelfRedirect', 'HasDescription',\n",
    "       'NoOfPopup', 'NoOfiFrame', 'HasExternalFormSubmit', 'HasSocialNet',\n",
    "       'HasSubmitButton', 'HasHiddenFields', 'HasPasswordField', 'Bank', 'Pay',\n",
    "       'Crypto', 'HasCopyrightInfo', 'NoOfImage', 'NoOfCSS', 'NoOfJS',\n",
    "       'NoOfSelfRef', 'NoOfEmptyRef', 'NoOfExternalRef', 'label'\n",
    "       ]"
   ]
  },
  {
   "cell_type": "code",
   "execution_count": null,
   "metadata": {},
   "outputs": [],
   "source": [
    "plot_by_label(df_plot[bool_columns])"
   ]
  },
  {
   "cell_type": "code",
   "execution_count": null,
   "metadata": {},
   "outputs": [],
   "source": [
    "categorical_features"
   ]
  },
  {
   "cell_type": "code",
   "execution_count": null,
   "metadata": {},
   "outputs": [],
   "source": [
    "continuous_features"
   ]
  },
  {
   "cell_type": "code",
   "execution_count": null,
   "metadata": {
    "id": "pr-IjkIVJyAv"
   },
   "outputs": [],
   "source": [
    "# plot_by_label(features= df_plot[features_to_plot])"
   ]
  },
  {
   "cell_type": "markdown",
   "metadata": {
    "id": "PqRhS0JNNeW8"
   },
   "source": [
    "#### 4. Explanation for feature distributions and correlations"
   ]
  },
  {
   "cell_type": "code",
   "execution_count": null,
   "metadata": {
    "id": "bL9yMsTkNeW8"
   },
   "outputs": [],
   "source": []
  },
  {
   "cell_type": "markdown",
   "metadata": {
    "id": "tGS62xxlmFEH"
   },
   "source": [
    "## B. Data Insights\n",
    "\n",
    "The objective of this section is for participants to understand how to formulate and get many insights from the given data so that we can improve the model performance. Given example questions:\n",
    "\n",
    "1. How was the proportion between phishing and non-phishing URLs on security related features (`IsHTTPS` and `Robots`)?\n",
    "2. Is there a significant correlation between the label of a URL (phishing or non-phishing) and its URL characteristics?\n",
    "3. How does website-resource-related features vary across phishing and non-phishing URLs?"
   ]
  },
  {
   "cell_type": "markdown",
   "metadata": {
    "id": "ngKJAIjHmFEH"
   },
   "source": [
    "### Step 1\n",
    "\n",
    "Answer the three example questions by visualizing and explaining the insights for each question. Add markdown texts to explain the visualizations."
   ]
  },
  {
   "cell_type": "markdown",
   "metadata": {
    "id": "gQBlE_O0mFEH"
   },
   "source": [
    "#### 1. How was the proportion between phishing and non-phishing URLs on security related features (`IsHTTPS` and `Robots`)?"
   ]
  },
  {
   "cell_type": "code",
   "execution_count": null,
   "metadata": {
    "id": "wVaopwwPmFEH"
   },
   "outputs": [],
   "source": [
    "# Write your code here"
   ]
  },
  {
   "cell_type": "markdown",
   "metadata": {
    "id": "l-fb-3klmFEI"
   },
   "source": [
    "#### 2. Is there a significant correlation between the label of a URL (phishing or non-phishing) and its URL characteristics?\n",
    "\n",
    "URL Characteristics:\n",
    "- `URLLength`\n",
    "- `Domain`\n",
    "- `DomainLength`\n",
    "- `IsDomainIP`\n",
    "- `TLD`\n",
    "- `TLDLength`\n",
    "- `NoOfSubDomain`\n",
    "- `HasObfuscation`\n",
    "- `NoOfObfuscatedChar`\n",
    "- `ObfuscationRatio`\n",
    "- `NoOfLettersInURL`\n",
    "- `LetterRatioInURL`\n",
    "- `NoOfDegitsInURL`\n",
    "- `DegitRatioInURL`\n",
    "- `NoOfEqualsInURL`\n",
    "- `NoOfQMarkInURL`\n",
    "- `NoOfAmpersandInURL`\n",
    "- `NoOfOtherSpecialCharsInURL`\n",
    "- `SpacialCharRatioInURL`\n",
    "- `CharContinuationRate`"
   ]
  },
  {
   "cell_type": "code",
   "execution_count": null,
   "metadata": {
    "id": "23RcHcP3mFEI"
   },
   "outputs": [],
   "source": [
    "# Write your code here"
   ]
  },
  {
   "cell_type": "markdown",
   "metadata": {
    "id": "OIKBiJrCmFEI"
   },
   "source": [
    "#### 3. How does website-resource-related features vary across phishing and non-phishing URLs?\n",
    "\n",
    "Website resource related features:\n",
    "- `NoOfImage`\n",
    "- `NoOfCSS`\n",
    "- `NoOfJS`\n",
    "- `NoOfSelfRef`\n",
    "- `NoOfEmptyRef`\n",
    "- `NoOfExternalRef`"
   ]
  },
  {
   "cell_type": "code",
   "execution_count": null,
   "metadata": {
    "id": "1TSAakrmmFEI",
    "trusted": true
   },
   "outputs": [],
   "source": [
    "# Write your code here"
   ]
  },
  {
   "cell_type": "markdown",
   "metadata": {
    "id": "TLO0_HBwmFEI"
   },
   "source": [
    "### Step 2\n",
    "\n",
    "Try to formulate three other new questions and answer them with the methods used before."
   ]
  },
  {
   "cell_type": "markdown",
   "metadata": {
    "id": "m8Xzww7lmFEI"
   },
   "source": [
    "#### 4. Your first question (replace this heading)"
   ]
  },
  {
   "cell_type": "code",
   "execution_count": null,
   "metadata": {
    "id": "zkaWpkSwmFEI"
   },
   "outputs": [],
   "source": [
    "# Write your code here"
   ]
  },
  {
   "cell_type": "markdown",
   "metadata": {
    "id": "8fkn9jVWmFEI"
   },
   "source": [
    "#### 5. Your second question (replace this heading)"
   ]
  },
  {
   "cell_type": "code",
   "execution_count": null,
   "metadata": {
    "id": "uEg3UUM4mFEI"
   },
   "outputs": [],
   "source": [
    "# Write your code here"
   ]
  },
  {
   "cell_type": "markdown",
   "metadata": {
    "id": "a8IdPTpsmFEJ"
   },
   "source": [
    "#### 6. Your third question (replace this heading)"
   ]
  },
  {
   "cell_type": "code",
   "execution_count": null,
   "metadata": {
    "id": "0NwSQ3a_mFEJ",
    "trusted": true
   },
   "outputs": [],
   "source": [
    "# Write your code here"
   ]
  }
 ],
 "metadata": {
  "colab": {
   "provenance": []
  },
  "kaggle": {
   "accelerator": "none",
   "dataSources": [
    {
     "databundleVersionId": 6475798,
     "sourceId": 60002,
     "sourceType": "competition"
    }
   ],
   "dockerImageVersionId": 30553,
   "isGpuEnabled": false,
   "isInternetEnabled": true,
   "language": "python",
   "sourceType": "notebook"
  },
  "kernelspec": {
   "display_name": "base",
   "language": "python",
   "name": "python3"
  },
  "language_info": {
   "codemirror_mode": {
    "name": "ipython",
    "version": 3
   },
   "file_extension": ".py",
   "mimetype": "text/x-python",
   "name": "python",
   "nbconvert_exporter": "python",
   "pygments_lexer": "ipython3",
   "version": "3.9.13"
  }
 },
 "nbformat": 4,
 "nbformat_minor": 0
}
